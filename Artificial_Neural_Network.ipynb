{
 "cells": [
  {
   "cell_type": "markdown",
   "metadata": {},
   "source": [
    "# Artificial Neural Network"
   ]
  },
  {
   "cell_type": "markdown",
   "metadata": {},
   "source": [
    "## Installing Theano"
   ]
  },
  {
   "cell_type": "code",
   "execution_count": 2,
   "metadata": {},
   "outputs": [
    {
     "name": "stdout",
     "output_type": "stream",
     "text": [
      "Requirement already satisfied: theano in c:\\programdata\\anaconda3\\lib\\site-packages (1.0.4)\n",
      "Requirement already satisfied: numpy>=1.9.1 in c:\\programdata\\anaconda3\\lib\\site-packages (from theano) (1.15.4)\n",
      "Requirement already satisfied: scipy>=0.14 in c:\\programdata\\anaconda3\\lib\\site-packages (from theano) (1.1.0)\n",
      "Requirement already satisfied: six>=1.9.0 in c:\\programdata\\anaconda3\\lib\\site-packages (from theano) (1.11.0)\n"
     ]
    }
   ],
   "source": [
    "#!pip install --upgrade --no-deps git+git://github.com/Theano/Theano.git\n",
    "# Theano is an open source numeric computation library, very efficient and based on numpy syntax.  Theano can not only run on \n",
    "# your CPU (Central Processing Unit) but also on your GPU (Graphical Processing Unit)\n",
    "!pip install theano"
   ]
  },
  {
   "cell_type": "markdown",
   "metadata": {},
   "source": [
    "## Installing Tensorflow and Keras"
   ]
  },
  {
   "cell_type": "code",
   "execution_count": 4,
   "metadata": {},
   "outputs": [
    {
     "name": "stdout",
     "output_type": "stream",
     "text": [
      "Requirement already up-to-date: keras in c:\\programdata\\anaconda3\\lib\\site-packages (2.2.4)\n",
      "Requirement already satisfied, skipping upgrade: keras-applications>=1.0.6 in c:\\programdata\\anaconda3\\lib\\site-packages (from keras) (1.0.7)\n",
      "Requirement already satisfied, skipping upgrade: numpy>=1.9.1 in c:\\programdata\\anaconda3\\lib\\site-packages (from keras) (1.15.4)\n",
      "Requirement already satisfied, skipping upgrade: keras-preprocessing>=1.0.5 in c:\\programdata\\anaconda3\\lib\\site-packages (from keras) (1.0.9)\n",
      "Requirement already satisfied, skipping upgrade: pyyaml in c:\\programdata\\anaconda3\\lib\\site-packages (from keras) (3.13)\n",
      "Requirement already satisfied, skipping upgrade: scipy>=0.14 in c:\\programdata\\anaconda3\\lib\\site-packages (from keras) (1.1.0)\n",
      "Requirement already satisfied, skipping upgrade: h5py in c:\\programdata\\anaconda3\\lib\\site-packages (from keras) (2.8.0)\n",
      "Requirement already satisfied, skipping upgrade: six>=1.9.0 in c:\\programdata\\anaconda3\\lib\\site-packages (from keras) (1.11.0)\n"
     ]
    }
   ],
   "source": [
    "# Installing Tensorflow\n",
    "# Install Tensorflow from the website: https://www.tensorflow.org/versions/r0.12/get_started/os_setup.html\n",
    "# Tensorflow is another open source numeric computation library, runs very fast computation and can run either on your CPU or GPU\n",
    "# If you are using Theano and Tensorflow together it means that you are building a deep neural network FROM SCRATCH\n",
    "#!pip install tensorflow\n",
    "# However if you want to wrap Theano and Tensorflow together then you can directly use Keras.  This library allows us to build a\n",
    "# deep neural network using a few lines of code.  Keras is extremely powerful and runs on Theano and Tensorflow libraries. \n",
    "# Installing Keras\n",
    "!pip install --upgrade keras"
   ]
  },
  {
   "cell_type": "code",
   "execution_count": null,
   "metadata": {},
   "outputs": [],
   "source": []
  },
  {
   "cell_type": "markdown",
   "metadata": {},
   "source": [
    "# Part 1 - Data Preprocessing"
   ]
  },
  {
   "cell_type": "code",
   "execution_count": 1,
   "metadata": {},
   "outputs": [],
   "source": [
    "# Importing the libraries\n",
    "import numpy as np\n",
    "import matplotlib.pyplot as plt\n",
    "import pandas as pd"
   ]
  },
  {
   "cell_type": "code",
   "execution_count": 6,
   "metadata": {},
   "outputs": [],
   "source": [
    "# Importing the dataset\n",
    "dataset = pd.read_csv('Churn_Modelling.csv')\n",
    "#Since the first column is considered column \"0\" and we need columns from 3 to 12 - we put 3:13 (the upper bound 13 is excluded)\n",
    "X = dataset.iloc[:, 3:13].values\n",
    "#The label or dependent variable is the 13th variable that is considered\n",
    "y = dataset.iloc[:, 13].values"
   ]
  },
  {
   "cell_type": "code",
   "execution_count": 7,
   "metadata": {},
   "outputs": [
    {
     "data": {
      "text/plain": [
       "array([[619, 'France', 'Female', ..., 1, 1, 101348.88],\n",
       "       [608, 'Spain', 'Female', ..., 0, 1, 112542.58],\n",
       "       [502, 'France', 'Female', ..., 1, 0, 113931.57],\n",
       "       ...,\n",
       "       [709, 'France', 'Female', ..., 0, 1, 42085.58],\n",
       "       [772, 'Germany', 'Male', ..., 1, 0, 92888.52],\n",
       "       [792, 'France', 'Female', ..., 1, 0, 38190.78]], dtype=object)"
      ]
     },
     "execution_count": 7,
     "metadata": {},
     "output_type": "execute_result"
    }
   ],
   "source": [
    "X"
   ]
  },
  {
   "cell_type": "code",
   "execution_count": 8,
   "metadata": {},
   "outputs": [],
   "source": [
    "# Encoding categorical data\n",
    "from sklearn.preprocessing import LabelEncoder, OneHotEncoder\n",
    "#Here we are encoding the country and gender features below\n",
    "labelencoder_X_1 = LabelEncoder()\n",
    "X[:, 1] = labelencoder_X_1.fit_transform(X[:, 1])\n",
    "labelencoder_X_2 = LabelEncoder()\n",
    "X[:, 2] = labelencoder_X_2.fit_transform(X[:, 2])\n",
    "#The country variable is again changed from label encoding to one hot encoding thereby introducing dummy variables\n",
    "#In the next line the [1] refers to the country variable which is the second from left.  First one being 0 and second one is 1\n",
    "onehotencoder = OneHotEncoder(categorical_features = [1])\n",
    "X = onehotencoder.fit_transform(X).toarray()\n",
    "#The next line eliminates THE DUMMY VARIABLE TRAP by reducing one column.  Here whenever two columns have 0 it assumes it is the\n",
    "#third country\n",
    "X = X[:, 1:]"
   ]
  },
  {
   "cell_type": "code",
   "execution_count": 9,
   "metadata": {},
   "outputs": [
    {
     "data": {
      "text/plain": [
       "array([[0.0000000e+00, 0.0000000e+00, 6.1900000e+02, ..., 1.0000000e+00,\n",
       "        1.0000000e+00, 1.0134888e+05],\n",
       "       [0.0000000e+00, 1.0000000e+00, 6.0800000e+02, ..., 0.0000000e+00,\n",
       "        1.0000000e+00, 1.1254258e+05],\n",
       "       [0.0000000e+00, 0.0000000e+00, 5.0200000e+02, ..., 1.0000000e+00,\n",
       "        0.0000000e+00, 1.1393157e+05],\n",
       "       ...,\n",
       "       [0.0000000e+00, 0.0000000e+00, 7.0900000e+02, ..., 0.0000000e+00,\n",
       "        1.0000000e+00, 4.2085580e+04],\n",
       "       [1.0000000e+00, 0.0000000e+00, 7.7200000e+02, ..., 1.0000000e+00,\n",
       "        0.0000000e+00, 9.2888520e+04],\n",
       "       [0.0000000e+00, 0.0000000e+00, 7.9200000e+02, ..., 1.0000000e+00,\n",
       "        0.0000000e+00, 3.8190780e+04]])"
      ]
     },
     "execution_count": 9,
     "metadata": {},
     "output_type": "execute_result"
    }
   ],
   "source": [
    "X"
   ]
  },
  {
   "cell_type": "code",
   "execution_count": 10,
   "metadata": {},
   "outputs": [],
   "source": [
    "# Splitting the dataset into the Training set and Test set\n",
    "from sklearn.model_selection import train_test_split\n",
    "X_train, X_test, y_train, y_test = train_test_split(X, y, test_size = 0.2, random_state = 0)"
   ]
  },
  {
   "cell_type": "code",
   "execution_count": 11,
   "metadata": {},
   "outputs": [],
   "source": [
    "# Feature Scaling\n",
    "#Feature scaling is very essential in deep learning.  It eliminates the value of one independent variable dominating the others\n",
    "from sklearn.preprocessing import StandardScaler\n",
    "sc = StandardScaler()\n",
    "X_train = sc.fit_transform(X_train)\n",
    "X_test = sc.transform(X_test)"
   ]
  },
  {
   "cell_type": "code",
   "execution_count": 12,
   "metadata": {},
   "outputs": [
    {
     "data": {
      "text/plain": [
       "array([[-0.5698444 ,  1.74309049,  0.16958176, ...,  0.64259497,\n",
       "        -1.03227043,  1.10643166],\n",
       "       [ 1.75486502, -0.57369368, -2.30455945, ...,  0.64259497,\n",
       "         0.9687384 , -0.74866447],\n",
       "       [-0.5698444 , -0.57369368, -1.19119591, ...,  0.64259497,\n",
       "        -1.03227043,  1.48533467],\n",
       "       ...,\n",
       "       [-0.5698444 , -0.57369368,  0.9015152 , ...,  0.64259497,\n",
       "        -1.03227043,  1.41231994],\n",
       "       [-0.5698444 ,  1.74309049, -0.62420521, ...,  0.64259497,\n",
       "         0.9687384 ,  0.84432121],\n",
       "       [ 1.75486502, -0.57369368, -0.28401079, ...,  0.64259497,\n",
       "        -1.03227043,  0.32472465]])"
      ]
     },
     "execution_count": 12,
     "metadata": {},
     "output_type": "execute_result"
    }
   ],
   "source": [
    "X_train"
   ]
  },
  {
   "cell_type": "markdown",
   "metadata": {},
   "source": [
    "# Part 2 - Now let's make the ANN!"
   ]
  },
  {
   "cell_type": "code",
   "execution_count": 5,
   "metadata": {},
   "outputs": [
    {
     "name": "stderr",
     "output_type": "stream",
     "text": [
      "C:\\ProgramData\\Anaconda3\\lib\\site-packages\\h5py\\__init__.py:72: UserWarning: h5py is running against HDF5 1.10.2 when it was built against 1.10.3, this may cause problems\n",
      "  '{0}.{1}.{2}'.format(*version.hdf5_built_version_tuple)\n",
      "Using TensorFlow backend.\n"
     ]
    }
   ],
   "source": [
    "# Importing the Keras libraries and packages\n",
    "import keras\n",
    "#The sequential library is used to initialize our neural network\n",
    "from keras.models import Sequential\n",
    "#The dense library is used to build the layers of our ANN\n",
    "from keras.layers import Dense"
   ]
  },
  {
   "cell_type": "code",
   "execution_count": 6,
   "metadata": {},
   "outputs": [],
   "source": [
    "# Initialising the ANN\n",
    "classifier = Sequential()"
   ]
  },
  {
   "cell_type": "code",
   "execution_count": 7,
   "metadata": {},
   "outputs": [
    {
     "name": "stdout",
     "output_type": "stream",
     "text": [
      "WARNING:tensorflow:From C:\\ProgramData\\Anaconda3\\lib\\site-packages\\tensorflow\\python\\framework\\op_def_library.py:263: colocate_with (from tensorflow.python.framework.ops) is deprecated and will be removed in a future version.\n",
      "Instructions for updating:\n",
      "Colocations handled automatically by placer.\n"
     ]
    },
    {
     "name": "stderr",
     "output_type": "stream",
     "text": [
      "C:\\ProgramData\\Anaconda3\\lib\\site-packages\\ipykernel_launcher.py:2: UserWarning: Update your `Dense` call to the Keras 2 API: `Dense(activation=\"relu\", input_dim=11, units=6, kernel_initializer=\"uniform\")`\n",
      "  \n"
     ]
    }
   ],
   "source": [
    "# Adding the input layer and the first hidden layer.  Here the rectifier activation function is used for the hidden layer. \n",
    "# input_dim refers to the number of features that feed as input. This is only mentioned for the first hidden layer\n",
    "# output_dim refers to the number of nodes of the first hidden layer.  Normally the number of nodes is decided as the average of\n",
    "# the number of points in the input layer (number of features) and the number of points in the output layer. (i+o)/2.  Here it\n",
    "# is 11+1=12/2=6\n",
    "# init refers to randomly initializing the weights in the first run of forward propogation in the stochastic gradient descent. \n",
    "# You do this initialization uniformly.  Two options are glorot_uniform and uniform. \n",
    "# The activation function relu refers to the rectifier activation function\n",
    "classifier.add(Dense(output_dim = 6, init = 'uniform', activation = 'relu', input_dim = 11))"
   ]
  },
  {
   "cell_type": "code",
   "execution_count": 8,
   "metadata": {},
   "outputs": [
    {
     "name": "stderr",
     "output_type": "stream",
     "text": [
      "C:\\ProgramData\\Anaconda3\\lib\\site-packages\\ipykernel_launcher.py:2: UserWarning: Update your `Dense` call to the Keras 2 API: `Dense(activation=\"relu\", units=6, kernel_initializer=\"uniform\")`\n",
      "  \n"
     ]
    }
   ],
   "source": [
    "# Adding the second hidden layer.  Again the rectifier activation function is used for the hidden layer\n",
    "# As you notice the input_dim is missing as we are trying to create a second hidden layer - for which input layer is not required\n",
    "classifier.add(Dense(output_dim = 6, init = 'uniform', activation = 'relu'))"
   ]
  },
  {
   "cell_type": "code",
   "execution_count": 9,
   "metadata": {},
   "outputs": [
    {
     "name": "stderr",
     "output_type": "stream",
     "text": [
      "C:\\ProgramData\\Anaconda3\\lib\\site-packages\\ipykernel_launcher.py:2: UserWarning: Update your `Dense` call to the Keras 2 API: `Dense(activation=\"sigmoid\", units=1, kernel_initializer=\"uniform\")`\n",
      "  \n"
     ]
    }
   ],
   "source": [
    "# Adding the output layer.  Here the sigmoid activation function is used for the output layer as we are looking for probabilities\n",
    "# in this case the output_dim has a value of 1 as it refers to the predicted label field. \n",
    "classifier.add(Dense(output_dim = 1, init = 'uniform', activation = 'sigmoid'))"
   ]
  },
  {
   "cell_type": "code",
   "execution_count": 10,
   "metadata": {},
   "outputs": [],
   "source": [
    "# Compiling the ANN\n",
    "# Optimizer is the algorithm you would use to find the optimal set of weights.  There are different types of stochastic gradient\n",
    "# descent algorithms.  One of the most efficient one is the adam algorithm\n",
    "# Loss refers to the loss function within the stochastic gradient descent adam algorithm. If the predicted label has two outcomes\n",
    "# then the loss function used is binary_crossentropy.  If there are more than two then it is categorical_crossentropy.\n",
    "# For metrics here we are going to use accuracy as a measurement to see how well the algorithm is performing\n",
    "classifier.compile(optimizer = 'adam', loss = 'binary_crossentropy', metrics = ['accuracy'])"
   ]
  },
  {
   "cell_type": "code",
   "execution_count": 17,
   "metadata": {},
   "outputs": [
    {
     "name": "stdout",
     "output_type": "stream",
     "text": [
      "WARNING:tensorflow:From C:\\ProgramData\\Anaconda3\\lib\\site-packages\\tensorflow\\python\\ops\\math_ops.py:3066: to_int32 (from tensorflow.python.ops.math_ops) is deprecated and will be removed in a future version.\n",
      "Instructions for updating:\n",
      "Use tf.cast instead.\n"
     ]
    },
    {
     "name": "stderr",
     "output_type": "stream",
     "text": [
      "C:\\ProgramData\\Anaconda3\\lib\\site-packages\\ipykernel_launcher.py:2: UserWarning: The `nb_epoch` argument in `fit` has been renamed `epochs`.\n",
      "  \n"
     ]
    },
    {
     "name": "stdout",
     "output_type": "stream",
     "text": [
      "Epoch 1/100\n",
      "8000/8000 [==============================] - 2s 224us/step - loss: 0.4854 - acc: 0.7960\n",
      "Epoch 2/100\n",
      "8000/8000 [==============================] - 1s 138us/step - loss: 0.4296 - acc: 0.7960 0s - loss: 0.4341 - acc:\n",
      "Epoch 3/100\n",
      "8000/8000 [==============================] - 1s 164us/step - loss: 0.4250 - acc: 0.7960 0s - loss: 0.4219\n",
      "Epoch 4/100\n",
      "8000/8000 [==============================] - 1s 168us/step - loss: 0.4204 - acc: 0.8094 0s - loss: 0.4254 - acc: 0 - ETA: 0s - loss: 0.4212 - acc: 0.\n",
      "Epoch 5/100\n",
      "8000/8000 [==============================] - 1s 154us/step - loss: 0.4176 - acc: 0.8237\n",
      "Epoch 6/100\n",
      "8000/8000 [==============================] - 1s 168us/step - loss: 0.4155 - acc: 0.8269\n",
      "Epoch 7/100\n",
      "8000/8000 [==============================] - 1s 139us/step - loss: 0.4142 - acc: 0.8285\n",
      "Epoch 8/100\n",
      "8000/8000 [==============================] - 1s 182us/step - loss: 0.4132 - acc: 0.8306 1s - loss: \n",
      "Epoch 9/100\n",
      "8000/8000 [==============================] - 1s 157us/step - loss: 0.4117 - acc: 0.8312\n",
      "Epoch 10/100\n",
      "8000/8000 [==============================] - 1s 145us/step - loss: 0.4110 - acc: 0.8320\n",
      "Epoch 11/100\n",
      "8000/8000 [==============================] - 1s 145us/step - loss: 0.4102 - acc: 0.8314\n",
      "Epoch 12/100\n",
      "8000/8000 [==============================] - 1s 140us/step - loss: 0.4097 - acc: 0.8326 1s - loss: 0.408\n",
      "Epoch 13/100\n",
      "8000/8000 [==============================] - 1s 147us/step - loss: 0.4087 - acc: 0.8332\n",
      "Epoch 14/100\n",
      "8000/8000 [==============================] - 1s 147us/step - loss: 0.4082 - acc: 0.8322\n",
      "Epoch 15/100\n",
      "8000/8000 [==============================] - 1s 158us/step - loss: 0.4079 - acc: 0.8344 0s - loss: 0.4130 - acc: \n",
      "Epoch 16/100\n",
      "8000/8000 [==============================] - 1s 147us/step - loss: 0.4073 - acc: 0.8336\n",
      "Epoch 17/100\n",
      "8000/8000 [==============================] - 1s 146us/step - loss: 0.4067 - acc: 0.8341: 1s - loss: 0.4\n",
      "Epoch 18/100\n",
      "8000/8000 [==============================] - 1s 141us/step - loss: 0.4069 - acc: 0.8325 0s - loss: 0.4020 - acc: 0.\n",
      "Epoch 19/100\n",
      "8000/8000 [==============================] - 1s 148us/step - loss: 0.4066 - acc: 0.8339\n",
      "Epoch 20/100\n",
      "8000/8000 [==============================] - 1s 143us/step - loss: 0.4062 - acc: 0.8339\n",
      "Epoch 21/100\n",
      "8000/8000 [==============================] - 1s 141us/step - loss: 0.4055 - acc: 0.8336\n",
      "Epoch 22/100\n",
      "8000/8000 [==============================] - 1s 152us/step - loss: 0.4053 - acc: 0.8340\n",
      "Epoch 23/100\n",
      "8000/8000 [==============================] - 1s 175us/step - loss: 0.4046 - acc: 0.8337\n",
      "Epoch 24/100\n",
      "8000/8000 [==============================] - 1s 143us/step - loss: 0.4047 - acc: 0.8346\n",
      "Epoch 25/100\n",
      "8000/8000 [==============================] - 1s 164us/step - loss: 0.4045 - acc: 0.8336\n",
      "Epoch 26/100\n",
      "8000/8000 [==============================] - 2s 198us/step - loss: 0.4041 - acc: 0.8347\n",
      "Epoch 27/100\n",
      "8000/8000 [==============================] - 2s 188us/step - loss: 0.4044 - acc: 0.8346 0s - loss: 0.4038 - acc: 0\n",
      "Epoch 28/100\n",
      "8000/8000 [==============================] - 1s 158us/step - loss: 0.4037 - acc: 0.8344\n",
      "Epoch 29/100\n",
      "8000/8000 [==============================] - 1s 148us/step - loss: 0.4037 - acc: 0.8342\n",
      "Epoch 30/100\n",
      "8000/8000 [==============================] - 1s 150us/step - loss: 0.4034 - acc: 0.8345 0s - loss: 0.4032 - acc: 0.83\n",
      "Epoch 31/100\n",
      "8000/8000 [==============================] - 2s 191us/step - loss: 0.4034 - acc: 0.8336\n",
      "Epoch 32/100\n",
      "8000/8000 [==============================] - 1s 152us/step - loss: 0.4031 - acc: 0.8360\n",
      "Epoch 33/100\n",
      "8000/8000 [==============================] - 1s 148us/step - loss: 0.4032 - acc: 0.8355\n",
      "Epoch 34/100\n",
      "8000/8000 [==============================] - 1s 152us/step - loss: 0.4031 - acc: 0.8342\n",
      "Epoch 35/100\n",
      "8000/8000 [==============================] - 1s 154us/step - loss: 0.4029 - acc: 0.8345\n",
      "Epoch 36/100\n",
      "8000/8000 [==============================] - 1s 159us/step - loss: 0.4023 - acc: 0.8369\n",
      "Epoch 37/100\n",
      "8000/8000 [==============================] - 1s 154us/step - loss: 0.4021 - acc: 0.8345\n",
      "Epoch 38/100\n",
      "8000/8000 [==============================] - 2s 209us/step - loss: 0.4022 - acc: 0.8361\n",
      "Epoch 39/100\n",
      "8000/8000 [==============================] - 1s 186us/step - loss: 0.4022 - acc: 0.8352\n",
      "Epoch 40/100\n",
      "8000/8000 [==============================] - 2s 188us/step - loss: 0.4020 - acc: 0.8347\n",
      "Epoch 41/100\n",
      "8000/8000 [==============================] - 1s 186us/step - loss: 0.4020 - acc: 0.8355\n",
      "Epoch 42/100\n",
      "8000/8000 [==============================] - 2s 215us/step - loss: 0.4016 - acc: 0.8345\n",
      "Epoch 43/100\n",
      "8000/8000 [==============================] - 2s 249us/step - loss: 0.4018 - acc: 0.8351\n",
      "Epoch 44/100\n",
      "8000/8000 [==============================] - 2s 203us/step - loss: 0.4014 - acc: 0.8335 0s - loss: 0.4027 - acc:  - ETA: 0s - loss: 0.4030 - acc: 0.83\n",
      "Epoch 45/100\n",
      "8000/8000 [==============================] - 1s 182us/step - loss: 0.4015 - acc: 0.8354\n",
      "Epoch 46/100\n",
      "8000/8000 [==============================] - 1s 163us/step - loss: 0.4017 - acc: 0.8346 0s - loss: 0.3988 - acc:\n",
      "Epoch 47/100\n",
      "8000/8000 [==============================] - 2s 247us/step - loss: 0.4012 - acc: 0.8350 0s - loss: 0.3938 - acc\n",
      "Epoch 48/100\n",
      "8000/8000 [==============================] - 2s 209us/step - loss: 0.4013 - acc: 0.8361\n",
      "Epoch 49/100\n",
      "8000/8000 [==============================] - ETA: 0s - loss: 0.4021 - acc: 0.832 - 2s 287us/step - loss: 0.4011 - acc: 0.8327\n",
      "Epoch 50/100\n",
      "8000/8000 [==============================] - 2s 205us/step - loss: 0.4015 - acc: 0.8351\n",
      "Epoch 51/100\n",
      "8000/8000 [==============================] - 1s 172us/step - loss: 0.4011 - acc: 0.8356\n",
      "Epoch 52/100\n",
      "8000/8000 [==============================] - 2s 205us/step - loss: 0.4011 - acc: 0.8329\n",
      "Epoch 53/100\n",
      "8000/8000 [==============================] - 2s 232us/step - loss: 0.4010 - acc: 0.8345 0s - loss: 0.4004 - acc: 0.834\n",
      "Epoch 54/100\n",
      "8000/8000 [==============================] - 1s 166us/step - loss: 0.4007 - acc: 0.8362 0s - loss: 0.3991 - acc\n",
      "Epoch 55/100\n",
      "8000/8000 [==============================] - 1s 178us/step - loss: 0.4010 - acc: 0.8329 0s - loss: 0.3952 - a\n",
      "Epoch 56/100\n",
      "8000/8000 [==============================] - 1s 172us/step - loss: 0.4005 - acc: 0.8355 1s - loss: \n",
      "Epoch 57/100\n",
      "8000/8000 [==============================] - 1s 167us/step - loss: 0.4012 - acc: 0.8337\n",
      "Epoch 58/100\n",
      "8000/8000 [==============================] - 2s 192us/step - loss: 0.4004 - acc: 0.8355\n",
      "Epoch 59/100\n",
      "8000/8000 [==============================] - 1s 164us/step - loss: 0.4008 - acc: 0.8335\n",
      "Epoch 60/100\n",
      "8000/8000 [==============================] - 1s 176us/step - loss: 0.4003 - acc: 0.8355\n",
      "Epoch 61/100\n",
      "8000/8000 [==============================] - 1s 171us/step - loss: 0.4009 - acc: 0.8347 0s - loss: 0.4003 - acc: 0.83\n",
      "Epoch 62/100\n",
      "8000/8000 [==============================] - 1s 186us/step - loss: 0.4006 - acc: 0.8344 0s - loss: 0.4017 - acc: 0.83\n",
      "Epoch 63/100\n",
      "8000/8000 [==============================] - 1s 181us/step - loss: 0.4004 - acc: 0.8340\n",
      "Epoch 64/100\n",
      "8000/8000 [==============================] - 3s 394us/step - loss: 0.4008 - acc: 0.8364\n",
      "Epoch 65/100\n",
      "8000/8000 [==============================] - 2s 281us/step - loss: 0.4004 - acc: 0.8337\n",
      "Epoch 66/100\n",
      "8000/8000 [==============================] - 2s 299us/step - loss: 0.4004 - acc: 0.8359\n",
      "Epoch 67/100\n",
      "8000/8000 [==============================] - 3s 316us/step - loss: 0.4007 - acc: 0.8340 1s - \n",
      "Epoch 68/100\n",
      "8000/8000 [==============================] - 3s 325us/step - loss: 0.4002 - acc: 0.8350 1s - loss:\n",
      "Epoch 69/100\n",
      "8000/8000 [==============================] - 2s 298us/step - loss: 0.4000 - acc: 0.8351\n",
      "Epoch 70/100\n",
      "8000/8000 [==============================] - 2s 292us/step - loss: 0.4002 - acc: 0.8345\n",
      "Epoch 71/100\n",
      "8000/8000 [==============================] - 2s 282us/step - loss: 0.4001 - acc: 0.8347\n",
      "Epoch 72/100\n",
      "8000/8000 [==============================] - 3s 336us/step - loss: 0.4006 - acc: 0.8345 \n",
      "Epoch 73/100\n",
      "8000/8000 [==============================] - 3s 356us/step - loss: 0.4000 - acc: 0.8344\n",
      "Epoch 74/100\n",
      "8000/8000 [==============================] - 3s 379us/step - loss: 0.4001 - acc: 0.8349\n",
      "Epoch 75/100\n",
      "8000/8000 [==============================] - 3s 331us/step - loss: 0.3998 - acc: 0.8357\n",
      "Epoch 76/100\n",
      "8000/8000 [==============================] - 1s 181us/step - loss: 0.3997 - acc: 0.8364\n",
      "Epoch 77/100\n",
      "8000/8000 [==============================] - 1s 170us/step - loss: 0.3997 - acc: 0.8356\n",
      "Epoch 78/100\n",
      "8000/8000 [==============================] - 1s 150us/step - loss: 0.3995 - acc: 0.8334 0s - loss: 0.3953 - acc: \n",
      "Epoch 79/100\n",
      "8000/8000 [==============================] - 1s 141us/step - loss: 0.3988 - acc: 0.8346\n",
      "Epoch 80/100\n",
      "8000/8000 [==============================] - 1s 150us/step - loss: 0.3992 - acc: 0.8350\n",
      "Epoch 81/100\n",
      "8000/8000 [==============================] - 1s 160us/step - loss: 0.3986 - acc: 0.8350\n",
      "Epoch 82/100\n",
      "8000/8000 [==============================] - 1s 160us/step - loss: 0.3986 - acc: 0.8357\n",
      "Epoch 83/100\n",
      "8000/8000 [==============================] - 2s 199us/step - loss: 0.3986 - acc: 0.8331 1s - loss: 0.395\n",
      "Epoch 84/100\n",
      "8000/8000 [==============================] - 1s 148us/step - loss: 0.3980 - acc: 0.8354\n",
      "Epoch 85/100\n",
      "8000/8000 [==============================] - 1s 150us/step - loss: 0.3977 - acc: 0.8367 0s - loss: 0.406\n",
      "Epoch 86/100\n",
      "8000/8000 [==============================] - 1s 148us/step - loss: 0.3977 - acc: 0.8350 1s - loss: 0.\n",
      "Epoch 87/100\n",
      "8000/8000 [==============================] - 2s 203us/step - loss: 0.3975 - acc: 0.8350\n",
      "Epoch 88/100\n",
      "8000/8000 [==============================] - 1s 155us/step - loss: 0.3972 - acc: 0.8354\n",
      "Epoch 89/100\n",
      "8000/8000 [==============================] - 2s 204us/step - loss: 0.3971 - acc: 0.8345 0s - loss: 0.3980 - acc: \n",
      "Epoch 90/100\n",
      "8000/8000 [==============================] - 2s 212us/step - loss: 0.3969 - acc: 0.8364\n",
      "Epoch 91/100\n",
      "8000/8000 [==============================] - 1s 164us/step - loss: 0.3965 - acc: 0.8342\n",
      "Epoch 92/100\n",
      "8000/8000 [==============================] - 1s 158us/step - loss: 0.3969 - acc: 0.8335\n",
      "Epoch 93/100\n",
      "8000/8000 [==============================] - 2s 304us/step - loss: 0.3962 - acc: 0.8345 0s - loss: 0.3955 - acc: 0.83\n",
      "Epoch 94/100\n",
      "8000/8000 [==============================] - 2s 282us/step - loss: 0.3967 - acc: 0.8347\n",
      "Epoch 95/100\n",
      "8000/8000 [==============================] - 2s 196us/step - loss: 0.3960 - acc: 0.8362\n",
      "Epoch 96/100\n",
      "8000/8000 [==============================] - ETA: 0s - loss: 0.3961 - acc: 0.835 - 2s 286us/step - loss: 0.3962 - acc: 0.8362\n",
      "Epoch 97/100\n",
      "8000/8000 [==============================] - 2s 239us/step - loss: 0.3960 - acc: 0.8347\n",
      "Epoch 98/100\n",
      "8000/8000 [==============================] - 1s 177us/step - loss: 0.3959 - acc: 0.8332\n",
      "Epoch 99/100\n",
      "8000/8000 [==============================] - 1s 148us/step - loss: 0.3954 - acc: 0.8359 0s - loss: 0.3896 -  - ETA: 0s - loss: 0.3965 - acc: 0.\n",
      "Epoch 100/100\n",
      "8000/8000 [==============================] - 1s 154us/step - loss: 0.3956 - acc: 0.8354\n"
     ]
    },
    {
     "data": {
      "text/plain": [
       "<keras.callbacks.History at 0x248cff6cb70>"
      ]
     },
     "execution_count": 17,
     "metadata": {},
     "output_type": "execute_result"
    }
   ],
   "source": [
    "# Fitting the ANN to the Training set\n",
    "# batch_size refers to the number of rows/observations that you want to consider for each run when calibrating the weights\n",
    "# nb_epoch refers to the number of times the ann would be iterated\n",
    "classifier.fit(X_train, y_train, batch_size = 10, nb_epoch = 100)"
   ]
  },
  {
   "cell_type": "markdown",
   "metadata": {},
   "source": [
    "# Part 3 - Making the predictions and evaluating the model"
   ]
  },
  {
   "cell_type": "code",
   "execution_count": 18,
   "metadata": {},
   "outputs": [],
   "source": [
    "# Predicting the Test set results\n",
    "y_pred = classifier.predict(X_test)\n",
    "y_pred = (y_pred > 0.5)"
   ]
  },
  {
   "cell_type": "code",
   "execution_count": 19,
   "metadata": {},
   "outputs": [],
   "source": [
    "# Making the Confusion Matrix\n",
    "from sklearn.metrics import confusion_matrix\n",
    "cm = confusion_matrix(y_test, y_pred)"
   ]
  },
  {
   "cell_type": "code",
   "execution_count": 20,
   "metadata": {},
   "outputs": [
    {
     "data": {
      "text/plain": [
       "array([[1544,   51],\n",
       "       [ 261,  144]], dtype=int64)"
      ]
     },
     "execution_count": 20,
     "metadata": {},
     "output_type": "execute_result"
    }
   ],
   "source": [
    "cm"
   ]
  },
  {
   "cell_type": "code",
   "execution_count": null,
   "metadata": {},
   "outputs": [],
   "source": []
  }
 ],
 "metadata": {
  "kernelspec": {
   "display_name": "Python 3",
   "language": "python",
   "name": "python3"
  },
  "language_info": {
   "codemirror_mode": {
    "name": "ipython",
    "version": 3
   },
   "file_extension": ".py",
   "mimetype": "text/x-python",
   "name": "python",
   "nbconvert_exporter": "python",
   "pygments_lexer": "ipython3",
   "version": "3.7.0"
  }
 },
 "nbformat": 4,
 "nbformat_minor": 2
}
